{
  "nbformat": 4,
  "nbformat_minor": 0,
  "metadata": {
    "colab": {
      "provenance": []
    },
    "kernelspec": {
      "name": "python3",
      "display_name": "Python 3"
    },
    "language_info": {
      "name": "python"
    }
  },
  "cells": [
    {
      "cell_type": "code",
      "execution_count": 9,
      "metadata": {
        "colab": {
          "base_uri": "https://localhost:8080/"
        },
        "id": "AXa2ZdZQ4G_l",
        "outputId": "67cc5abe-6971-434a-c763-022e49eda64d"
      },
      "outputs": [
        {
          "output_type": "stream",
          "name": "stdout",
          "text": [
            "Requirement already satisfied: SpeechRecognition in /usr/local/lib/python3.11/dist-packages (3.14.3)\n",
            "Requirement already satisfied: pyttsx3 in /usr/local/lib/python3.11/dist-packages (2.98)\n",
            "Requirement already satisfied: wikipedia in /usr/local/lib/python3.11/dist-packages (1.4.0)\n",
            "Requirement already satisfied: pyjokes in /usr/local/lib/python3.11/dist-packages (0.8.3)\n",
            "Requirement already satisfied: typing-extensions in /usr/local/lib/python3.11/dist-packages (from SpeechRecognition) (4.13.2)\n",
            "Requirement already satisfied: beautifulsoup4 in /usr/local/lib/python3.11/dist-packages (from wikipedia) (4.13.4)\n",
            "Requirement already satisfied: requests<3.0.0,>=2.0.0 in /usr/local/lib/python3.11/dist-packages (from wikipedia) (2.32.3)\n",
            "Requirement already satisfied: charset-normalizer<4,>=2 in /usr/local/lib/python3.11/dist-packages (from requests<3.0.0,>=2.0.0->wikipedia) (3.4.2)\n",
            "Requirement already satisfied: idna<4,>=2.5 in /usr/local/lib/python3.11/dist-packages (from requests<3.0.0,>=2.0.0->wikipedia) (3.10)\n",
            "Requirement already satisfied: urllib3<3,>=1.21.1 in /usr/local/lib/python3.11/dist-packages (from requests<3.0.0,>=2.0.0->wikipedia) (2.4.0)\n",
            "Requirement already satisfied: certifi>=2017.4.17 in /usr/local/lib/python3.11/dist-packages (from requests<3.0.0,>=2.0.0->wikipedia) (2025.4.26)\n",
            "Requirement already satisfied: soupsieve>1.2 in /usr/local/lib/python3.11/dist-packages (from beautifulsoup4->wikipedia) (2.7)\n"
          ]
        }
      ],
      "source": [
        "!pip install SpeechRecognition pyttsx3 wikipedia pyjokes"
      ]
    },
    {
      "cell_type": "code",
      "source": [
        "import speech_recognition as sr\n",
        "import pyttsx3\n",
        "import datetime\n",
        "import wikipedia\n",
        "import webbrowser\n",
        "import os\n",
        "import pyjokes"
      ],
      "metadata": {
        "id": "d3AZYrbI4K9U"
      },
      "execution_count": 10,
      "outputs": []
    },
    {
      "cell_type": "code",
      "source": [
        "def speak(text):\n",
        "    print(f\"Assistant: {text}\")\n",
        "    try:\n",
        "        engine = pyttsx3.init()\n",
        "        engine.say(text)\n",
        "        engine.runAndWait()\n",
        "    except:\n",
        "        print(\"Speech output not supported in Colab.\")"
      ],
      "metadata": {
        "id": "9mU2pvRP4PJE"
      },
      "execution_count": 11,
      "outputs": []
    },
    {
      "cell_type": "code",
      "source": [
        "def wish_user():\n",
        "    hour = int(datetime.datetime.now().hour)\n",
        "    if hour < 12:\n",
        "        speak(\"Good Morning!\")\n",
        "    elif hour < 18:\n",
        "        speak(\"Good Afternoon!\")\n",
        "    else:\n",
        "        speak(\"Good Evening!\")\n",
        "    speak(\"I am your voice assistant. How can I help you today?\")"
      ],
      "metadata": {
        "id": "sd2pn-gw4T9s"
      },
      "execution_count": 12,
      "outputs": []
    },
    {
      "cell_type": "code",
      "source": [
        "def take_command():\n",
        "    return input(\"You (type your command): \").lower()"
      ],
      "metadata": {
        "id": "Hd4NXMWN4XGL"
      },
      "execution_count": 13,
      "outputs": []
    },
    {
      "cell_type": "code",
      "source": [
        "def run_assistant():\n",
        "    wish_user()\n",
        "    while True:\n",
        "        query = take_command()\n",
        "\n",
        "        if 'wikipedia' in query:\n",
        "            speak(\"Searching Wikipedia...\")\n",
        "            query = query.replace(\"wikipedia\", \"\")\n",
        "            try:\n",
        "                result = wikipedia.summary(query, sentences=2)\n",
        "                speak(\"According to Wikipedia:\")\n",
        "                speak(result)\n",
        "            except:\n",
        "                speak(\"Sorry, I couldn't find anything.\")\n",
        "\n",
        "        elif 'open youtube' in query:\n",
        "            speak(\"Opening YouTube...\")\n",
        "            webbrowser.open(\"https://www.youtube.com\")\n",
        "\n",
        "        elif 'open google' in query:\n",
        "            speak(\"Opening Google...\")\n",
        "            webbrowser.open(\"https://www.google.com\")\n",
        "\n",
        "        elif 'time' in query:\n",
        "            strTime = datetime.datetime.now().strftime(\"%H:%M:%S\")\n",
        "            speak(f\"The current time is {strTime}\")\n",
        "\n",
        "        elif 'joke' in query:\n",
        "            joke = pyjokes.get_joke()\n",
        "            speak(joke)\n",
        "\n",
        "        elif 'exit' in query or 'bye' in query:\n",
        "            speak(\"Goodbye! Have a nice day!\")\n",
        "            break\n",
        "\n",
        "        else:\n",
        "            speak(\"Sorry, I didn't understand that. Try again.\")"
      ],
      "metadata": {
        "id": "lEMrX5_Z4ZrK"
      },
      "execution_count": 14,
      "outputs": []
    },
    {
      "cell_type": "code",
      "source": [
        "run_assistant()"
      ],
      "metadata": {
        "colab": {
          "base_uri": "https://localhost:8080/"
        },
        "id": "g-pikeFK4dIx",
        "outputId": "fe1062fc-0d25-45ef-985d-429078e909fd"
      },
      "execution_count": 7,
      "outputs": [
        {
          "output_type": "stream",
          "name": "stdout",
          "text": [
            "Assistant: Good Morning!\n",
            "Speech output not supported in Colab.\n",
            "Assistant: I am your voice assistant. How can I help you today?\n",
            "Speech output not supported in Colab.\n",
            "You (type your command): \"what is python wikipedia\"\n",
            "Assistant: Searching Wikipedia...\n",
            "Speech output not supported in Colab.\n",
            "Assistant: According to Wikipedia:\n",
            "Speech output not supported in Colab.\n",
            "Assistant: Core Python Programming is a textbook on the Python programming language, written by Wesley J. Chun. The first edition of the book was released on December 14, 2000.\n",
            "Speech output not supported in Colab.\n",
            "You (type your command): what is python wikipedia\n",
            "Assistant: Searching Wikipedia...\n",
            "Speech output not supported in Colab.\n",
            "Assistant: According to Wikipedia:\n",
            "Speech output not supported in Colab.\n",
            "Assistant: Monty Python, also known as the Pythons, were a British comedy troupe formed in 1969 consisting of Graham Chapman, John Cleese, Terry Gilliam, Eric Idle, Terry Jones and Michael Palin. The group came to prominence for the sketch comedy series Monty Python's Flying Circus, which aired on the BBC from 1969 to 1974.\n",
            "Speech output not supported in Colab.\n",
            "You (type your command): \"open youtube\"\n",
            "Assistant: Opening YouTube...\n",
            "Speech output not supported in Colab.\n",
            "You (type your command): open youtube\n",
            "Assistant: Opening YouTube...\n",
            "Speech output not supported in Colab.\n",
            "You (type your command): \"what's the time\"\n",
            "Assistant: The current time is 01:38:26\n",
            "Speech output not supported in Colab.\n",
            "You (type your command): \"exit\"\n",
            "Assistant: Goodbye! Have a nice day!\n",
            "Speech output not supported in Colab.\n"
          ]
        }
      ]
    },
    {
      "cell_type": "code",
      "source": [],
      "metadata": {
        "id": "BLokTlnU4kH-"
      },
      "execution_count": 7,
      "outputs": []
    }
  ]
}